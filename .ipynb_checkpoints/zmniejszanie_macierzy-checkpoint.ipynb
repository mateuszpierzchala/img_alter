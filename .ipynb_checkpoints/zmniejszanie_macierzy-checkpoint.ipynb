{
 "cells": [
  {
   "cell_type": "markdown",
   "metadata": {},
   "source": [
    "### program zmiejszający rozmiar macierzy"
   ]
  },
  {
   "cell_type": "code",
   "execution_count": 12,
   "metadata": {},
   "outputs": [],
   "source": [
    "from matplotlib import image as mpimg\n",
    "from matplotlib import pyplot as plt\n",
    "import scipy.ndimage as ndimage\n",
    "#from PIL import Image\n",
    "import numpy as np\n",
    "\n",
    "%matplotlib inline"
   ]
  },
  {
   "cell_type": "code",
   "execution_count": 4,
   "metadata": {},
   "outputs": [
    {
     "data": {
      "image/png": "[encoded data removed]",
      "text/plain": [
       "<Figure size 432x288 with 1 Axes>"
      ]
     },
     "metadata": {},
     "output_type": "display_data"
    }
   ],
   "source": [
    "img = mpimg.imread('macierze.png')\n",
    "imgplot = plt.imshow(img)"
   ]
  },
  {
   "cell_type": "markdown",
   "metadata": {},
   "source": [
    "#### tworzenie nowej macierzy 2D wypełnionej losowymi liczbami z zakresu 0:10"
   ]
  },
  {
   "cell_type": "code",
   "execution_count": 5,
   "metadata": {},
   "outputs": [
    {
     "name": "stdout",
     "output_type": "stream",
     "text": [
      "Podaj wymiary tablicy: 8 8 \n"
     ]
    },
    {
     "data": {
      "text/plain": [
       "[8, 8]"
      ]
     },
     "execution_count": 5,
     "metadata": {},
     "output_type": "execute_result"
    }
   ],
   "source": [
    "a = [int(x) for x in input('Podaj wymiary tablicy: ').split()]\n",
    "a"
   ]
  },
  {
   "cell_type": "code",
   "execution_count": 6,
   "metadata": {},
   "outputs": [],
   "source": [
    "from random import randint"
   ]
  },
  {
   "cell_type": "code",
   "execution_count": 8,
   "metadata": {},
   "outputs": [
    {
     "data": {
      "text/plain": [
       "array([[8, 8, 5, 6, 2, 9, 4, 1],\n",
       "       [4, 5, 6, 3, 7, 1, 8, 8],\n",
       "       [2, 7, 2, 7, 0, 7, 8, 5],\n",
       "       [3, 8, 7, 5, 8, 4, 9, 3],\n",
       "       [5, 3, 3, 8, 7, 5, 7, 5],\n",
       "       [1, 0, 8, 0, 8, 4, 1, 8],\n",
       "       [1, 1, 5, 1, 4, 9, 2, 5],\n",
       "       [5, 5, 1, 1, 8, 7, 1, 7]])"
      ]
     },
     "execution_count": 8,
     "metadata": {},
     "output_type": "execute_result"
    }
   ],
   "source": [
    "tab_duza = np.random.randint(10,size = (a[0], a[1]))\n",
    "tab_duza"
   ]
  },
  {
   "cell_type": "markdown",
   "metadata": {},
   "source": [
    "### tworzenie macierzy składającej się ze średnich wartości sąsiadów \"orto\" i siebie samej"
   ]
  },
  {
   "cell_type": "code",
   "execution_count": 9,
   "metadata": {},
   "outputs": [],
   "source": [
    "def usrednij(tab):\n",
    "    tab=np.array(tab, dtype = float)\n",
    "    footprint = np.array([[0,1,0],\n",
    "                          [1,1,1],\n",
    "                          [0,1,0]])\n",
    "\n",
    "    tabMean=ndimage.generic_filter(tab, np.mean,\n",
    "                                   footprint = footprint)\n",
    "    return tabMean"
   ]
  },
  {
   "cell_type": "markdown",
   "metadata": {},
   "source": [
    "### tworzenie funkcji \"reduce\" z parametrami: tablica wejsciowa, rozmiar tablicy"
   ]
  },
  {
   "cell_type": "code",
   "execution_count": 18,
   "metadata": {},
   "outputs": [],
   "source": [
    "def reduce(tablica, kolumny = 1, rzedy = 1):\n",
    "    tab_mala = np.zeros((rzedy, kolumny))\n",
    "    for j in range(kolumny):\n",
    "        for i in range(rzedy):\n",
    "            tab_mala[i,j] = tablica[i*2, j*2] \n",
    "        \n",
    "        \n",
    "    return tab_mala"
   ]
  },
  {
   "cell_type": "code",
   "execution_count": 19,
   "metadata": {},
   "outputs": [
    {
     "data": {
      "text/plain": [
       "array([[7.2, 6.8, 6. , 4.4, 5.2, 5. , 5.2, 3. ],\n",
       "       [4.6, 6. , 4.2, 5.8, 2.6, 6.4, 5.8, 6. ],\n",
       "       [3.6, 4.8, 5.8, 3.4, 5.8, 4. , 7.4, 5.8],\n",
       "       [4.2, 5.6, 5. , 7. , 4.8, 6.6, 6.2, 5. ],\n",
       "       [3.4, 3.8, 5.8, 4.6, 7.2, 5.4, 5.4, 5.6],\n",
       "       [1.6, 2.6, 3.2, 5. , 4.6, 5.4, 4.4, 5.4],\n",
       "       [1.8, 2.4, 3.2, 2.2, 6. , 5.2, 3.6, 5.4],\n",
       "       [4.2, 3.4, 2.6, 2.4, 5.6, 6.4, 3.6, 5.4]])"
      ]
     },
     "execution_count": 19,
     "metadata": {},
     "output_type": "execute_result"
    }
   ],
   "source": [
    "tab_usredniona = usrednij(tab_duza)\n",
    "tab_usredniona"
   ]
  },
  {
   "cell_type": "code",
   "execution_count": 20,
   "metadata": {},
   "outputs": [
    {
     "data": {
      "text/plain": [
       "array([[7.2, 6. , 5.2],\n",
       "       [3.6, 5.8, 5.8],\n",
       "       [3.4, 5.8, 7.2]])"
      ]
     },
     "execution_count": 20,
     "metadata": {},
     "output_type": "execute_result"
    }
   ],
   "source": [
    "reduce(tab_usredniona, 3, 3)"
   ]
  },
  {
   "cell_type": "code",
   "execution_count": null,
   "metadata": {},
   "outputs": [],
   "source": []
  },
  {
   "cell_type": "code",
   "execution_count": null,
   "metadata": {},
   "outputs": [],
   "source": []
  }
 ],
 "metadata": {
  "kernelspec": {
   "display_name": "Python 3",
   "language": "python",
   "name": "python3"
  },
  "language_info": {
   "codemirror_mode": {
    "name": "ipython",
    "version": 3
   },
   "file_extension": ".py",
   "mimetype": "text/x-python",
   "name": "python",
   "nbconvert_exporter": "python",
   "pygments_lexer": "ipython3",
   "version": "3.6.5"
  }
 },
 "nbformat": 4,
 "nbformat_minor": 2
}
